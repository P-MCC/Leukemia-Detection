{
 "cells": [
  {
   "cell_type": "code",
   "execution_count": 1,
   "metadata": {},
   "outputs": [],
   "source": [
    "import os\n",
    "import cv2\n",
    "import numpy as np"
   ]
  },
  {
   "cell_type": "code",
   "execution_count": 2,
   "metadata": {},
   "outputs": [],
   "source": [
    "\n",
    "def augment_dataset(dataset_path, operations):\n",
    "    \n",
    "    # Loop through every image in the dataset\n",
    "    for filename in os.listdir(dataset_path):\n",
    "        if filename.endswith(\".jpg\") or filename.endswith(\".png\") or filename.endswith(\".tif\"):\n",
    "            # Load the image\n",
    "            image_path = os.path.join(dataset_path, filename)\n",
    "            image = cv2.imread(image_path)\n",
    "\n",
    "            # Apply the operations\n",
    "            for i, op in enumerate(operations):\n",
    "                augmented_image = op(image)\n",
    "\n",
    "                # Save the augmented image\n",
    "                op_name = op.__name__\n",
    "                new_filename = f\"{op_name}_{filename}\"\n",
    "                new_image_path = os.path.join(dataset_path, new_filename)\n",
    "                cv2.imwrite(new_image_path, augmented_image)"
   ]
  },
  {
   "cell_type": "code",
   "execution_count": 3,
   "metadata": {},
   "outputs": [],
   "source": [
    "def rotate_90(image):\n",
    "    \"\"\"\n",
    "    Rotates an image 90 degrees clockwise.\n",
    "\n",
    "    Args:\n",
    "        image (ndarray): The input image.\n",
    "\n",
    "    Returns:\n",
    "        The rotated image.\n",
    "    \"\"\"\n",
    "    return cv2.rotate(image, cv2.ROTATE_90_CLOCKWISE)\n",
    "\n",
    "def rotate_180(image):\n",
    "    \"\"\"\n",
    "    Rotates an image 180 degrees.\n",
    "\n",
    "    Args:\n",
    "        image (ndarray): The input image.\n",
    "\n",
    "    Returns:\n",
    "        The rotated image.\n",
    "    \"\"\"\n",
    "    return cv2.rotate(image, cv2.ROTATE_180)\n",
    "\n",
    "def rotate_270(image):\n",
    "    \"\"\"\n",
    "    Rotates an image 270 degrees clockwise.\n",
    "\n",
    "    Args:\n",
    "        image (ndarray): The input image.\n",
    "\n",
    "    Returns:\n",
    "        The rotated image.\n",
    "    \"\"\"\n",
    "    return cv2.rotate(image, cv2.ROTATE_90_COUNTERCLOCKWISE)"
   ]
  },
  {
   "cell_type": "code",
   "execution_count": 6,
   "metadata": {},
   "outputs": [],
   "source": [
    "#Data Augmentation for x3 dataset\n",
    "#Applies 3 rotations for each image (Independently not sequentially)\n",
    "\n",
    "# Call the function on two different datasets with different operations\n",
    "dataset_path = \"M:/Codes-Scripts/ALL-Detection/Data/ALL-IDB1_70Train_30Test-Augmentor/x3/train\"\n",
    "\n",
    "dataset_path_healthy = dataset_path+\"/Healthy\"\n",
    "dataset_path_infected = dataset_path+\"/Infected\"\n",
    "operations = [rotate_90, rotate_180, rotate_270]\n",
    "augment_dataset(dataset_path_healthy, operations)\n",
    "augment_dataset(dataset_path_infected, operations)"
   ]
  }
 ],
 "metadata": {
  "kernelspec": {
   "display_name": "Python 3 (ipykernel)",
   "language": "python",
   "name": "python3"
  },
  "language_info": {
   "codemirror_mode": {
    "name": "ipython",
    "version": 3
   },
   "file_extension": ".py",
   "mimetype": "text/x-python",
   "name": "python",
   "nbconvert_exporter": "python",
   "pygments_lexer": "ipython3",
   "version": "3.9.13"
  }
 },
 "nbformat": 4,
 "nbformat_minor": 2
}
